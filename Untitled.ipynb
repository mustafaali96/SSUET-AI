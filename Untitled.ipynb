{
 "cells": [
  {
   "cell_type": "markdown",
   "id": "051d4e3b",
   "metadata": {},
   "source": [
    "# ML"
   ]
  },
  {
   "cell_type": "code",
   "execution_count": 3,
   "id": "75eea876",
   "metadata": {},
   "outputs": [],
   "source": [
    "# https://github.com/mustafaali96/Karachi-AI-ML-Classes/blob/main/Assignments/Assignment%231%20(MP-1)/Mustafa%20MP-1.ipynb"
   ]
  },
  {
   "cell_type": "code",
   "execution_count": null,
   "id": "4112ac24",
   "metadata": {},
   "outputs": [],
   "source": []
  },
  {
   "cell_type": "markdown",
   "id": "2207f9c5",
   "metadata": {},
   "source": [
    "# PCA"
   ]
  },
  {
   "cell_type": "code",
   "execution_count": 4,
   "id": "195b650d",
   "metadata": {},
   "outputs": [],
   "source": [
    "# https://github.com/mustafaali96/Karachi-AI-ML-Classes/blob/main/Assignments/Assignment%20%232/MP-2.ipynb"
   ]
  },
  {
   "cell_type": "code",
   "execution_count": null,
   "id": "22080909",
   "metadata": {},
   "outputs": [],
   "source": []
  }
 ],
 "metadata": {
  "kernelspec": {
   "display_name": "Python 3",
   "language": "python",
   "name": "python3"
  },
  "language_info": {
   "codemirror_mode": {
    "name": "ipython",
    "version": 3
   },
   "file_extension": ".py",
   "mimetype": "text/x-python",
   "name": "python",
   "nbconvert_exporter": "python",
   "pygments_lexer": "ipython3",
   "version": "3.8.12"
  }
 },
 "nbformat": 4,
 "nbformat_minor": 5
}
